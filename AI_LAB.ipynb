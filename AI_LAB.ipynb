{
  "nbformat": 4,
  "nbformat_minor": 0,
  "metadata": {
    "colab": {
      "provenance": [],
      "authorship_tag": "ABX9TyNUyZoYfz0hBHG7UhpeQffK",
      "include_colab_link": true
    },
    "kernelspec": {
      "name": "python3",
      "display_name": "Python 3"
    },
    "language_info": {
      "name": "python"
    }
  },
  "cells": [
    {
      "cell_type": "markdown",
      "metadata": {
        "id": "view-in-github",
        "colab_type": "text"
      },
      "source": [
        "<a href=\"https://colab.research.google.com/github/Annie173/Snake_Game/blob/main/AI_LAB.ipynb\" target=\"_parent\"><img src=\"https://colab.research.google.com/assets/colab-badge.svg\" alt=\"Open In Colab\"/></a>"
      ]
    },
    {
      "cell_type": "code",
      "execution_count": 1,
      "metadata": {
        "colab": {
          "base_uri": "https://localhost:8080/"
        },
        "id": "9ANZ7oze2wjY",
        "outputId": "b55174d6-a696-45b8-b1de-dd55d0a1349f"
      },
      "outputs": [
        {
          "output_type": "stream",
          "name": "stdout",
          "text": [
            "Solution steps: ['move box to middle', 'grab banana']\n"
          ]
        }
      ],
      "source": [
        "def monkey_banana_problem():\n",
        "    initial_state = (\"at door\", \"on floor\", \"has ball\", \"banana at ceiling\")\n",
        "    goal_state = (\"at middle\", \"on box\", \"has banana\")\n",
        "\n",
        "    def move(state, action):\n",
        "        at, on, has, banana = state\n",
        "        if action == \"move to middle\" and at == \"at door\" and on == \"on floor\":\n",
        "            return (\"at middle\", \"on floor\", \"has ball\", banana)\n",
        "        if action == \"move box to middle\" and at == \"at door\" and on == \"on floor\":\n",
        "            return (\"at middle\", \"on box\", \"has ball\", banana)\n",
        "        if action == \"climb box\" and at == \"at middle\" and on == \"on floor\":\n",
        "            return (\"at middle\", \"on box\", \"has ball\", banana)\n",
        "        if action == \"grab banana\" and at == \"at middle\" and on == \"on box\":\n",
        "            return (\"at middle\", \"on box\", \"has banana\")\n",
        "        return state\n",
        "\n",
        "    def bfs(initial_state, goal_state):\n",
        "        queue = [(initial_state, [])]\n",
        "        visited = set()\n",
        "        while queue:\n",
        "            state, path = queue.pop(0)\n",
        "            if state in visited:\n",
        "                continue\n",
        "            visited.add(state)\n",
        "            for action in [\"move to middle\", \"move box to middle\", \"climb box\", \"grab banana\"]:\n",
        "                new_state = move(state, action)\n",
        "                if new_state == goal_state:\n",
        "                    return path + [action]\n",
        "                queue.append((new_state, path + [action]))\n",
        "        return None\n",
        "\n",
        "    solution = bfs(initial_state, goal_state)\n",
        "    print(\"Solution steps:\", solution)\n",
        "\n",
        "monkey_banana_problem()\n"
      ]
    },
    {
      "cell_type": "code",
      "source": [
        "# DFS\n",
        "def dfs(graph, start, visited=None):\n",
        "    if visited is None:\n",
        "        visited = set()\n",
        "    visited.add(start)\n",
        "    print(start, end=' ')\n",
        "\n",
        "    for neighbor in graph[start]:\n",
        "        if neighbor not in visited:\n",
        "            dfs(graph, neighbor, visited)\n",
        "\n",
        "# Example graph\n",
        "graph = {\n",
        "    'A': ['B', 'C'],\n",
        "    'B': ['D', 'E'],\n",
        "    'C': ['F'],\n",
        "    'D': [],\n",
        "    'E': ['F'],\n",
        "    'F': []\n",
        "}\n",
        "\n",
        "# Run DFS starting from node 'A'\n",
        "dfs(graph, 'A')\n"
      ],
      "metadata": {
        "colab": {
          "base_uri": "https://localhost:8080/"
        },
        "id": "04x8BtBL3E1M",
        "outputId": "aca3bb08-eda5-4094-f216-6d9504adcc4f"
      },
      "execution_count": null,
      "outputs": [
        {
          "output_type": "stream",
          "name": "stdout",
          "text": [
            "A B D E F C "
          ]
        }
      ]
    },
    {
      "cell_type": "code",
      "source": [
        "#BFS\n",
        "def bfs(graph, start):\n",
        "    visited = set()\n",
        "    queue = deque([start])\n",
        "    visited.add(start)\n",
        "\n",
        "    while queue:\n",
        "        node = queue.popleft()\n",
        "        print(node, end=' ')\n",
        "\n",
        "        for neighbor in graph[node]:\n",
        "            if neighbor not in visited:\n",
        "                visited.add(neighbor)\n",
        "                queue.append(neighbor)\n",
        "\n",
        "# Example graph\n",
        "graph = {\n",
        "    'A': ['B', 'C'],\n",
        "    'B': ['D', 'E'],\n",
        "    'C': ['F'],\n",
        "    'D': [],\n",
        "    'E': ['F'],\n",
        "    'F': []\n",
        "}\n",
        "\n",
        "# Run BFS starting from node 'A'\n",
        "bfs(graph, 'A')\n"
      ],
      "metadata": {
        "colab": {
          "base_uri": "https://localhost:8080/"
        },
        "id": "-8bWqoCM3MN7",
        "outputId": "590c2d17-5503-485e-95e8-059bc161797e"
      },
      "execution_count": null,
      "outputs": [
        {
          "output_type": "stream",
          "name": "stdout",
          "text": [
            "A B C D E F "
          ]
        }
      ]
    },
    {
      "cell_type": "code",
      "source": [
        "#Factorial of a number\n",
        "def factorial(n):\n",
        "    if n < 0:\n",
        "        return \"Factorial is not defined for negative numbers.\"\n",
        "    if n == 0 or n == 1:\n",
        "        return 1\n",
        "    return n * factorial(n - 1)\n",
        "\n",
        "# Input from user\n",
        "num = int(input(\"Enter a number: \"))\n",
        "print(\"Factorial : \",factorial(num))\n"
      ],
      "metadata": {
        "colab": {
          "base_uri": "https://localhost:8080/"
        },
        "id": "w2S81SQ53MxG",
        "outputId": "e172cafc-bf56-47c0-fc3f-6365dc8c0e43"
      },
      "execution_count": null,
      "outputs": [
        {
          "output_type": "stream",
          "name": "stdout",
          "text": [
            "Enter a number: 5\n",
            "Factorial :  120\n"
          ]
        }
      ]
    },
    {
      "cell_type": "code",
      "source": [
        "#Length of List\n",
        "example_list = [1, 2, 3, 4, 5]\n",
        "print(len(example_list))\n"
      ],
      "metadata": {
        "colab": {
          "base_uri": "https://localhost:8080/"
        },
        "id": "L5w1N6dv3Nrr",
        "outputId": "d80fc6f4-5e98-424e-ad50-c1879fa99d4d"
      },
      "execution_count": null,
      "outputs": [
        {
          "output_type": "stream",
          "name": "stdout",
          "text": [
            "5\n"
          ]
        }
      ]
    },
    {
      "cell_type": "code",
      "source": [
        "#Reverse a list\n",
        "example_list = [1, 2, 3, 4, 5]\n",
        "print(example_list[::-1])\n"
      ],
      "metadata": {
        "colab": {
          "base_uri": "https://localhost:8080/"
        },
        "id": "PXbuZGEF3O_L",
        "outputId": "f0c9ed45-b0f1-45bf-cc42-816baffc22ea"
      },
      "execution_count": null,
      "outputs": [
        {
          "output_type": "stream",
          "name": "stdout",
          "text": [
            "[5, 4, 3, 2, 1]\n"
          ]
        }
      ]
    }
  ]
}